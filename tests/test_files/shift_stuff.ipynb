{
 "cells": [
  {
   "cell_type": "code",
   "execution_count": 1,
   "metadata": {},
   "outputs": [],
   "source": [
    "import cv2, numpy as np, os"
   ]
  },
  {
   "cell_type": "code",
   "execution_count": 2,
   "metadata": {},
   "outputs": [],
   "source": [
    "def is_float(x):\n",
    "    try:\n",
    "        n = float(x)\n",
    "        return True\n",
    "    except Exception as e:\n",
    "        return False"
   ]
  },
  {
   "cell_type": "code",
   "execution_count": 3,
   "metadata": {},
   "outputs": [],
   "source": [
    "def extract_numeric_value(path):\n",
    "            parts = os.path.split(path)[1].split(\" \")\n",
    "            for part in parts:\n",
    "                if is_float(part):\n",
    "                    return float(part)"
   ]
  },
  {
   "cell_type": "code",
   "execution_count": 6,
   "metadata": {},
   "outputs": [],
   "source": [
    "folder_path = r\"C:\\Users\\shash\\OneDrive\\Documents\\AI_Data\"\n",
    "subfolder_paths = [os.path.join(folder_path, path) for path in os.listdir(folder_path) if any([is_float(p) for p in path.split(\" \")]) if os.path.isdir(os.path.join(folder_path, path))]\n",
    "subfolder_paths = sorted(subfolder_paths, key=extract_numeric_value)\n",
    "total_images = [os.path.join(sub_folder, image) for sub_folder in subfolder_paths for image in os.listdir(sub_folder) if image.endswith((\".jpg\", \".png\", \".jpeg\", \".gif\"))] "
   ]
  },
  {
   "cell_type": "code",
   "execution_count": 9,
   "metadata": {},
   "outputs": [],
   "source": [
    "os.makedirs(r\"C:\\Users\\shash\\OneDrive\\Documents\\Red Data\")"
   ]
  },
  {
   "cell_type": "code",
   "execution_count": 11,
   "metadata": {},
   "outputs": [],
   "source": [
    "for image in total_images:\n",
    "    img_bgr = cv2.imread(image)\n",
    "    img_rgb = cv2.cvtColor(img_bgr, 4)\n",
    "    filename = os.path.split(image)[-1]\n",
    "    filepath = os.path.join(r\"C:\\Users\\shash\\OneDrive\\Documents\\Red Data\", os.path.split(os.path.split(image)[0])[-1])\n",
    "    if not os.path.exists(filepath):\n",
    "        os.makedirs(filepath)\n",
    "    filepath = os.path.join(filepath, filename)\n",
    "    cv2.imwrite(filepath, img_rgb)\n",
    "    "
   ]
  },
  {
   "cell_type": "code",
   "execution_count": 12,
   "metadata": {},
   "outputs": [],
   "source": [
    "for x in [os.path.join(r\"C:\\Users\\shash\\Downloads\\Ru\\Ru\\Ruthenium Sensing with optimised para\", p) for p in os.listdir(r\"C:\\Users\\shash\\Downloads\\Ru\\Ru\\Ruthenium Sensing with optimised para\") if os.path.isdir(os.path.join(r\"C:\\Users\\shash\\Downloads\\Ru\\Ru\\Ruthenium Sensing with optimised para\", p))]:\n",
    "    folder_name = os.path.split(x)[-1]\n",
    "    folder_name = folder_name[:folder_name.index(\"R\")]\n",
    "    os.rename(x, os.path.join(r\"C:\\Users\\shash\\Downloads\\Ru\\Ru\\Ruthenium Sensing with optimised para\", folder_name))"
   ]
  },
  {
   "cell_type": "code",
   "execution_count": 22,
   "metadata": {},
   "outputs": [
    {
     "name": "stdout",
     "output_type": "stream",
     "text": [
      "51\n"
     ]
    }
   ],
   "source": [
    "folder_path = r\"C:\\Users\\shash\\Downloads\\Ru\\Ru\\Ruthenium Sensing with optimised para\".replace(' ', '_')\n",
    "subfolder_paths = [os.path.join(folder_path, path) for path in os.listdir(folder_path) if any([is_float(p) for p in path.split(\" \")]) if os.path.isdir(os.path.join(folder_path, path))]\n",
    "subfolder_paths = sorted(subfolder_paths, key=extract_numeric_value)\n",
    "total_images = [os.path.join(sub_folder, image) for sub_folder in subfolder_paths for image in os.listdir(sub_folder) if image.lower().endswith((\".jpg\", \".png\", \".jpeg\", \".gif\"))] \n",
    "print(len(total_images))"
   ]
  }
 ],
 "metadata": {
  "kernelspec": {
   "display_name": "Python 3",
   "language": "python",
   "name": "python3"
  },
  "language_info": {
   "codemirror_mode": {
    "name": "ipython",
    "version": 3
   },
   "file_extension": ".py",
   "mimetype": "text/x-python",
   "name": "python",
   "nbconvert_exporter": "python",
   "pygments_lexer": "ipython3",
   "version": "3.11.6"
  }
 },
 "nbformat": 4,
 "nbformat_minor": 2
}
